{
 "cells": [
  {
   "cell_type": "code",
   "execution_count": 34,
   "id": "9124abfc",
   "metadata": {},
   "outputs": [
    {
     "name": "stdout",
     "output_type": "stream",
     "text": [
      "/home/anmol/Desktop/SIH/kex\n"
     ]
    }
   ],
   "source": [
    "import os, sys\n",
    "PWD = os.getenv('PWD')\n",
    "print(PWD)\n",
    "os.chdir(PWD)\n",
    "sys.path.insert(0, os.getenv('PWD'))\n",
    "os.environ.setdefault(\"DJANGO_SETTINGS_MODULE\", \"config/settings/base.py\")\n",
    "os.environ[\"DJANGO_ALLOW_ASYNC_UNSAFE\"] = \"true\"\n",
    "import django\n",
    "django.setup()\n"
   ]
  },
  {
   "cell_type": "code",
   "execution_count": 57,
   "id": "63e6fecb",
   "metadata": {},
   "outputs": [
    {
     "data": {
      "text/plain": [
       "True"
      ]
     },
     "execution_count": 57,
     "metadata": {},
     "output_type": "execute_result"
    }
   ],
   "source": [
    "from kex.core.utils import get_tokens_for_user\n",
    "from kex.users.models import User\n",
    "from kex.users.api.serializers import MyTokenObtainPairSerializer\n",
    "\n",
    "u = User.objects.get(email=\"test@test.com\")\n",
    "u.check_password(\"Admin@123\")\n",
    "# MyTokenObtainPairSerializer().get_token(u)\n",
    "# get_tokens_for_user(u)"
   ]
  },
  {
   "cell_type": "code",
   "execution_count": 55,
   "id": "e8523de9",
   "metadata": {},
   "outputs": [
    {
     "name": "stdout",
     "output_type": "stream",
     "text": [
      "AAAABBB None\n"
     ]
    }
   ],
   "source": [
    "from django.contrib.auth import authenticate\n",
    "d = {\"email\":\"test@test.com\",\"password\":\"Admin@123\"}\n",
    "try:\n",
    "    x = authenticate(email='test@test.com',password=\"Admin@123\")\n",
    "    print(\"AAAABBB\",x)    \n",
    "except KeyError:\n",
    "    print(\"AAAA\")"
   ]
  }
 ],
 "metadata": {
  "kernelspec": {
   "display_name": "Django Shell-Plus",
   "language": "python",
   "name": "django_extensions"
  },
  "language_info": {
   "codemirror_mode": {
    "name": "ipython",
    "version": 3
   },
   "file_extension": ".py",
   "mimetype": "text/x-python",
   "name": "python",
   "nbconvert_exporter": "python",
   "pygments_lexer": "ipython3",
   "version": "3.8.10"
  }
 },
 "nbformat": 4,
 "nbformat_minor": 5
}
